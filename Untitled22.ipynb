{
 "cells": [
  {
   "cell_type": "code",
   "execution_count": null,
   "id": "8e71dcdc",
   "metadata": {},
   "outputs": [],
   "source": [
    "1. Why are functions advantageous to have in your programs?\n",
    "\n",
    "=  Its takes lot of time and space to write a set of code again and again in a program instead  write a function using def          keyword.\n",
    "   eg ->   \n",
    "            def math(a,b):\n",
    "                return a+b\n",
    "            math(2,3)\n",
    "            math(3,4)\n",
    "            math(4,9)\n",
    "            math(9,8)\n",
    "               "
   ]
  },
  {
   "cell_type": "code",
   "execution_count": null,
   "id": "1207395f",
   "metadata": {},
   "outputs": [],
   "source": [
    "2. When does the code in a function run: when it's specified or when it's called?\n",
    "\n",
    "= The code in a function run when it's being called in the program."
   ]
  },
  {
   "cell_type": "code",
   "execution_count": null,
   "id": "8220bcd8",
   "metadata": {},
   "outputs": [],
   "source": [
    "3. What statement creates a function?\n",
    "=  def keyword creates a function"
   ]
  },
  {
   "cell_type": "code",
   "execution_count": null,
   "id": "ea435aa7",
   "metadata": {},
   "outputs": [],
   "source": [
    "4. What is the difference between a function and a function call?\n",
    "\n",
    "=  A function is a set code in a program which is been developed by def keyword and it does not runs unless it is called in a      program using function name.\n",
    "   eg ->   \n",
    "              def math(a,b):\n",
    "                  return a+b\n",
    "              math(2,3)\n",
    "              math(3,4)\n",
    "              math(4,9)\n",
    "              math(9,8)\n",
    "              "
   ]
  },
  {
   "cell_type": "code",
   "execution_count": null,
   "id": "d1d75ddc",
   "metadata": {},
   "outputs": [],
   "source": [
    "5. How many global scopes are there in a Python program? How many local scopes?\n",
    "\n",
    "= Only one global scope in a python program and many local scope in python program."
   ]
  },
  {
   "cell_type": "code",
   "execution_count": null,
   "id": "05e44d3d",
   "metadata": {},
   "outputs": [],
   "source": [
    "6.\n",
    "= A local variable retains its value until the next time the function is called\n",
    "  A local variable becomes undefined after the function call completes"
   ]
  },
  {
   "cell_type": "code",
   "execution_count": null,
   "id": "7999f725",
   "metadata": {},
   "outputs": [],
   "source": [
    "7. What is the concept of a return value? Is it possible to have a return value in an expression?\n",
    "\n",
    "=  The Python return statement is a key component of functions and methods. You can use the return statement to make your functions send Python objects back to the caller code.\n",
    "   If the return statement is without any expression, then the special value None is returned."
   ]
  },
  {
   "cell_type": "code",
   "execution_count": null,
   "id": "2e5c495b",
   "metadata": {},
   "outputs": [],
   "source": [
    "8. If a function does not have a return statement, what is the return value of a call to that function?\n",
    "\n",
    "= If no return statement appears in a function definition, control automatically returns to the calling function after the last statement of the called function is executed. In this case, the return value of the called function is undefined.\n"
   ]
  },
  {
   "cell_type": "code",
   "execution_count": null,
   "id": "e5d4b6a7",
   "metadata": {},
   "outputs": [],
   "source": [
    "9. How do you make a function variable refer to the global variable?\n",
    "\n",
    "= By using global keyword a function variable refer to the global variable"
   ]
  },
  {
   "cell_type": "code",
   "execution_count": null,
   "id": "7a3c3a8e",
   "metadata": {},
   "outputs": [],
   "source": [
    "10. What is the data type of None?\n",
    "\n",
    "= Nonetype is the data type of None"
   ]
  },
  {
   "cell_type": "code",
   "execution_count": null,
   "id": "799100e7",
   "metadata": {},
   "outputs": [],
   "source": [
    "11. What does the sentence import areallyourpetsnamederic do?\n",
    "\n",
    "= It will import the library named areallyourpetsnamederic."
   ]
  },
  {
   "cell_type": "code",
   "execution_count": null,
   "id": "26c96c48",
   "metadata": {},
   "outputs": [],
   "source": [
    "12. If you had a bacon() feature in a spam module, what would you call it after importing spam?\n",
    "\n",
    "= Feature Extraction \n",
    "  eg ->\n",
    "     \n",
    "        from spam import bacon"
   ]
  },
  {
   "cell_type": "code",
   "execution_count": null,
   "id": "73706c1a",
   "metadata": {},
   "outputs": [],
   "source": [
    "13. What can you do to save a programme from crashing if it encounters an error?\n",
    "\n",
    "= We can try to debugging or can use exception handling"
   ]
  },
  {
   "cell_type": "code",
   "execution_count": null,
   "id": "20eb0b73",
   "metadata": {},
   "outputs": [],
   "source": [
    "14. What is the purpose of the try clause? What is the purpose of the except clause?\n",
    "\n",
    "= The try block is used to check some code for errors i.e the code inside the try block will execute when there is no error in the program. \n",
    "  Whereas the code inside the except block will execute whenever the program encounters some error in the preceding try block."
   ]
  }
 ],
 "metadata": {
  "kernelspec": {
   "display_name": "Python 3",
   "language": "python",
   "name": "python3"
  },
  "language_info": {
   "codemirror_mode": {
    "name": "ipython",
    "version": 3
   },
   "file_extension": ".py",
   "mimetype": "text/x-python",
   "name": "python",
   "nbconvert_exporter": "python",
   "pygments_lexer": "ipython3",
   "version": "3.8.8"
  }
 },
 "nbformat": 4,
 "nbformat_minor": 5
}
